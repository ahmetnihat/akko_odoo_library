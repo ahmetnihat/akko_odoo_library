{
 "cells": [
  {
   "cell_type": "markdown",
   "id": "8ff6e94e-704f-4c23-9c19-1dffdae88d4a",
   "metadata": {},
   "source": [
    "# Odoo Akko Library"
   ]
  },
  {
   "cell_type": "code",
   "execution_count": 1,
   "id": "1100d8f0-cb8b-42d5-b158-8b811f08f457",
   "metadata": {},
   "outputs": [],
   "source": [
    "import xmlrpc.client\n",
    "\n",
    "class Connections:\n",
    "    def __init__(self, ODOO_URL=None, DB=None, USERNAME=None, PASSWORD=None):\n",
    "        \"\"\"\n",
    "        Bağlantı bilgilerini başlangıçta alabilir veya sonradan connect metodu ile ayarlayabilirsiniz.\n",
    "        \"\"\"\n",
    "        self.ODOO_URL = ODOO_URL\n",
    "        self.DB = DB\n",
    "        self.USERNAME = USERNAME\n",
    "        self.PASSWORD = PASSWORD\n",
    "        self.uid = None\n",
    "        self.models = None\n",
    "\n",
    "        # Eğer tüm bağlantı bilgileri başlangıçta verildiyse, otomatik bağlan\n",
    "        if all([ODOO_URL, DB, USERNAME, PASSWORD]):\n",
    "            self.connect()\n",
    "\n",
    "    def connect(self, ODOO_URL=None, DB=None, USERNAME=None, PASSWORD=None):\n",
    "        \"\"\"\n",
    "        Odoo'ya bağlanır ve kimlik doğrulama yapar.\n",
    "        \"\"\"\n",
    "        # Eğer parametreler verilmişse, sınıf değişkenlerini güncelle\n",
    "        if ODOO_URL: self.ODOO_URL = ODOO_URL\n",
    "        if DB: self.DB = DB\n",
    "        if USERNAME: self.USERNAME = USERNAME\n",
    "        if PASSWORD: self.PASSWORD = PASSWORD\n",
    "\n",
    "        # Tüm gerekli parametrelerin var olduğunu kontrol et\n",
    "        if not all([self.ODOO_URL, self.DB, self.USERNAME, self.PASSWORD]):\n",
    "            raise ValueError(\"Bağlantı için tüm parametreler gereklidir: ODOO_URL, DB, USERNAME, PASSWORD\")\n",
    "        \n",
    "        try:\n",
    "            # Common API bağlantısını oluşturur\n",
    "            self.common = xmlrpc.client.ServerProxy(f\"{self.ODOO_URL}/xmlrpc/2/common\")\n",
    "\n",
    "            # Kimlik doğrulama\n",
    "            self.uid = self.common.authenticate(self.DB, self.USERNAME, self.PASSWORD, {})\n",
    "        \n",
    "            if not self.uid:\n",
    "                raise Exception(\"Odoo kimlik doğrulaması başarısız!\")\n",
    "\n",
    "            # Models API'ye Erişim\n",
    "            self.models = xmlrpc.client.ServerProxy(f\"{self.ODOO_URL}/xmlrpc/2/object\")\n",
    "            \n",
    "            print(f\"Odoo'ya başarıyla bağlanıldı! UID: {self.uid}\")\n",
    "            return self.uid\n",
    "        \n",
    "        except Exception as e:\n",
    "            print(f\"Odoo bağlantı hatası: {e}\")\n",
    "            self.common = None\n",
    "            self.models = None\n",
    "            self.uid = None\n",
    "            raise\n",
    "\n",
    "\n",
    "class OdooModel:\n",
    "    def __init__(self, connection, model_name):\n",
    "        \"\"\"\n",
    "        Herhangi bir Odoo modeli için CRUD işlemlerini gerçekleştiren sınıf.\n",
    "        \"\"\"\n",
    "        self.connection = connection\n",
    "        self.model_name = model_name\n",
    "        \n",
    "    def _check_connection(self):\n",
    "        \"\"\"Bağlantının kurulu olup olmadığını kontrol eder.\"\"\"\n",
    "        if not self.connection.uid or not self.connection.models:\n",
    "            raise Exception(\"Önce Odoo'ya bağlanmalısınız!\")\n",
    "    \n",
    "    def create(self, records):\n",
    "        \"\"\"\n",
    "        Modele yeni kayıt(lar) ekler.\n",
    "        \n",
    "        Args:\n",
    "            records: Eklenecek kayıtların listesi. Her kayıt bir dict olmalıdır.\n",
    "            \n",
    "        Returns:\n",
    "            dict: {index_veya_tanımlayıcı: {\"id\": kayıt_id, \"status\": durum}}\n",
    "        \"\"\"\n",
    "        self._check_connection()\n",
    "        \n",
    "        results = {}\n",
    "        \n",
    "        for index, record in enumerate(records):\n",
    "            try:\n",
    "                record_id = self.connection.models.execute_kw(\n",
    "                    self.connection.DB,\n",
    "                    self.connection.uid,\n",
    "                    self.connection.PASSWORD,\n",
    "                    self.model_name,\n",
    "                    \"create\",\n",
    "                    [record]\n",
    "                )\n",
    "                \n",
    "                record_name = record.get('name', str(index))\n",
    "                results[record_name] = {\"id\": record_id, \"status\": \"success\"}\n",
    "                \n",
    "            except Exception as e:\n",
    "                record_name = record.get('name', str(index))\n",
    "                results[record_name] = {\"status\": \"error\", \"message\": str(e)}\n",
    "        \n",
    "        return results\n",
    "    \n",
    "    def search(self, domain=None, fields=None, limit=None, offset=0, order=None):\n",
    "        \"\"\"\n",
    "        Kayıtları arar ve getirir.\n",
    "        \n",
    "        Args:\n",
    "            domain: Arama kriterleri (örn: [['list_price', '>', 100]])\n",
    "            fields: Getirilecek alanlar (örn: ['id', 'name', 'list_price'])\n",
    "            limit: Maksimum kayıt sayısı\n",
    "            offset: Atlanacak kayıt sayısı\n",
    "            order: Sıralama kriteri (örn: \"name ASC\")\n",
    "            \n",
    "        Returns:\n",
    "            list: Bulunan kayıtların listesi\n",
    "        \"\"\"\n",
    "        self._check_connection()\n",
    "        \n",
    "        domain = domain or []\n",
    "        fields = fields or []\n",
    "        \n",
    "        kwargs = {}\n",
    "        if fields: kwargs[\"fields\"] = fields\n",
    "        if limit: kwargs[\"limit\"] = limit\n",
    "        if offset: kwargs[\"offset\"] = offset\n",
    "        if order: kwargs[\"order\"] = order\n",
    "        \n",
    "        try:\n",
    "            records = self.connection.models.execute_kw(\n",
    "                self.connection.DB,\n",
    "                self.connection.uid,\n",
    "                self.connection.PASSWORD,\n",
    "                self.model_name,\n",
    "                \"search_read\",\n",
    "                [domain],\n",
    "                kwargs\n",
    "            )\n",
    "            return records\n",
    "        except Exception as e:\n",
    "            print(f\"Arama hatası: {e}\")\n",
    "            return []\n",
    "    \n",
    "    def update(self, updates):\n",
    "        \"\"\"\n",
    "        Kayıt(lar)ı günceller.\n",
    "        \n",
    "        Args:\n",
    "            updates: Güncellenecek kayıtların listesi.\n",
    "                    Her öğe {\"id\": id, \"values\": {field1: value1, ...}} formatında olmalıdır.\n",
    "            \n",
    "        Returns:\n",
    "            dict: {id: {\"status\": durum, \"message\": hata_mesajı}}\n",
    "        \"\"\"\n",
    "        self._check_connection()\n",
    "        \n",
    "        results = {}\n",
    "        \n",
    "        for update in updates:\n",
    "            record_id = update.get(\"id\")\n",
    "            values = update.get(\"values\")\n",
    "            \n",
    "            if not record_id or not values:\n",
    "                continue\n",
    "                \n",
    "            try:\n",
    "                self.connection.models.execute_kw(\n",
    "                    self.connection.DB,\n",
    "                    self.connection.uid,\n",
    "                    self.connection.PASSWORD,\n",
    "                    self.model_name,\n",
    "                    \"write\",\n",
    "                    [[record_id], values]\n",
    "                )\n",
    "                results[record_id] = {\"status\": \"success\"}\n",
    "            except Exception as e:\n",
    "                results[record_id] = {\"status\": \"error\", \"message\": str(e)}\n",
    "                \n",
    "        return results\n",
    "    \n",
    "    def delete(self, record_ids):\n",
    "        \"\"\"\n",
    "        Belirtilen ID'lere sahip kayıtları siler.\n",
    "        \n",
    "        Args:\n",
    "            record_ids: Silinecek kayıtların ID listesi\n",
    "            \n",
    "        Returns:\n",
    "            bool: İşlem başarılı ise True\n",
    "        \"\"\"\n",
    "        self._check_connection()\n",
    "        \n",
    "        try:\n",
    "            self.connection.models.execute_kw(\n",
    "                self.connection.DB,\n",
    "                self.connection.uid,\n",
    "                self.connection.PASSWORD,\n",
    "                self.model_name,\n",
    "                \"unlink\",\n",
    "                [record_ids]\n",
    "            )\n",
    "            return True\n",
    "        except Exception as e:\n",
    "            print(f\"Silme hatası: {e}\")\n",
    "            return False"
   ]
  },
  {
   "cell_type": "code",
   "execution_count": 2,
   "id": "6c1bc339-e7d3-4b1d-88ac-c0441223538b",
   "metadata": {},
   "outputs": [
    {
     "name": "stdout",
     "output_type": "stream",
     "text": [
      "Odoo'ya başarıyla bağlanıldı! UID: 2\n"
     ]
    }
   ],
   "source": [
    "# Bağlantı oluştur\n",
    "ODOO_URL = \"http://localhost:8069\"\n",
    "DB = \"test_db\"\n",
    "USERNAME = \"ahmet.nihat.ekici@akko.com.tr\"\n",
    "PASSWORD = \"akko123\"\n",
    "conn = Connections(ODOO_URL, DB, USERNAME, PASSWORD)"
   ]
  },
  {
   "cell_type": "code",
   "execution_count": 3,
   "id": "55266a31-9c85-48a6-9ed2-17fa45b5ff35",
   "metadata": {},
   "outputs": [],
   "source": [
    "# Ürün modeli için\n",
    "product_model = OdooModel(conn, \"product.pricelist.item\")"
   ]
  },
  {
   "cell_type": "code",
   "execution_count": 4,
   "id": "42b3730f-ae0a-4614-ab6e-61d03be3e4d1",
   "metadata": {},
   "outputs": [
    {
     "data": {
      "text/plain": [
       "{'0': {'id': 5, 'status': 'success'}}"
      ]
     },
     "execution_count": 4,
     "metadata": {},
     "output_type": "execute_result"
    }
   ],
   "source": [
    "# Kayıt oluşturma\n",
    "products = [\n",
    "    {\n",
    "    \"display_applied_on\": \"1_product\",\n",
    "    \"product_tmpl_id\": 5,  # Burada \"product\" yerine \"consu\" kullanıyoruz\n",
    "    \"compute_price\": \"fixed\",  # Kategori ID'sini doğru ayarlayın\n",
    "    \"fixed_price\": 100.0,  # Satış fiyatı\n",
    "    \"min_quantity\": 50.0,  # Maliyet fiyatı\n",
    "    \"pricelist_id\": 4\n",
    "    }\n",
    "]\n",
    "results = product_model.create(products)\n",
    "results"
   ]
  },
  {
   "cell_type": "code",
   "execution_count": 6,
   "id": "27775b2f-dddc-477a-bd91-3f0f6e36eeee",
   "metadata": {},
   "outputs": [
    {
     "data": {
      "text/plain": [
       "[{'id': 5,\n",
       "  'product_tmpl_id': [5, '[FURN_7777] Office Chair'],\n",
       "  'pricelist_id': [4, 'Orange (USD)']},\n",
       " {'id': 4,\n",
       "  'product_tmpl_id': [5, '[FURN_7777] Office Chair'],\n",
       "  'pricelist_id': [4, 'Orange (USD)']},\n",
       " {'id': 3,\n",
       "  'product_tmpl_id': [5, '[FURN_7777] Office Chair'],\n",
       "  'pricelist_id': [1, 'Öntanımlı (USD)']},\n",
       " {'id': 2,\n",
       "  'product_tmpl_id': [5, '[FURN_7777] Office Chair'],\n",
       "  'pricelist_id': [1, 'Öntanımlı (USD)']},\n",
       " {'id': 1,\n",
       "  'product_tmpl_id': [25, '[FURN_8220] Four Person Desk'],\n",
       "  'pricelist_id': [4, 'Orange (USD)']}]"
      ]
     },
     "execution_count": 6,
     "metadata": {},
     "output_type": "execute_result"
    }
   ],
   "source": [
    "# Kayıt arama\n",
    "domain=[['display_applied_on', '=', '1_product']]\n",
    "fields=['id', 'product_tmpl_id', \"pricelist_id\"]#name\n",
    "\n",
    "products = product_model.search(domain, fields)\n",
    "products"
   ]
  },
  {
   "cell_type": "code",
   "execution_count": 7,
   "id": "64707f1a-e7f1-4e00-b5cb-d9a9f5ae96f2",
   "metadata": {},
   "outputs": [
    {
     "data": {
      "text/plain": [
       "{3: {'status': 'success'}}"
      ]
     },
     "execution_count": 7,
     "metadata": {},
     "output_type": "execute_result"
    }
   ],
   "source": [
    "# Kayıt güncelleme\n",
    "updates = [\n",
    "    {\"id\": 3, \"values\": {'pricelist_id': 4}}\n",
    "]\n",
    "\n",
    "results = product_model.update(updates)\n",
    "results"
   ]
  },
  {
   "cell_type": "code",
   "execution_count": 8,
   "id": "90811cb7-1fac-4299-bbc1-2f18df534dcd",
   "metadata": {},
   "outputs": [
    {
     "data": {
      "text/plain": [
       "[{'id': 5,\n",
       "  'product_tmpl_id': [5, '[FURN_7777] Office Chair'],\n",
       "  'pricelist_id': [4, 'Orange (USD)']},\n",
       " {'id': 4,\n",
       "  'product_tmpl_id': [5, '[FURN_7777] Office Chair'],\n",
       "  'pricelist_id': [4, 'Orange (USD)']},\n",
       " {'id': 3,\n",
       "  'product_tmpl_id': [5, '[FURN_7777] Office Chair'],\n",
       "  'pricelist_id': [4, 'Orange (USD)']},\n",
       " {'id': 2,\n",
       "  'product_tmpl_id': [5, '[FURN_7777] Office Chair'],\n",
       "  'pricelist_id': [1, 'Öntanımlı (USD)']},\n",
       " {'id': 1,\n",
       "  'product_tmpl_id': [25, '[FURN_8220] Four Person Desk'],\n",
       "  'pricelist_id': [4, 'Orange (USD)']}]"
      ]
     },
     "execution_count": 8,
     "metadata": {},
     "output_type": "execute_result"
    }
   ],
   "source": [
    "# Kayıt arama\n",
    "domain=[['display_applied_on', '=', '1_product']]\n",
    "fields=['id', 'product_tmpl_id', \"pricelist_id\"]#name\n",
    "\n",
    "products = product_model.search(domain, fields)\n",
    "products"
   ]
  },
  {
   "cell_type": "code",
   "execution_count": 9,
   "id": "815aef59-012b-48a9-85ae-6548d7a00d89",
   "metadata": {},
   "outputs": [
    {
     "data": {
      "text/plain": [
       "True"
      ]
     },
     "execution_count": 9,
     "metadata": {},
     "output_type": "execute_result"
    }
   ],
   "source": [
    "# Kayıt silme\n",
    "product_model.delete([3])"
   ]
  },
  {
   "cell_type": "code",
   "execution_count": 10,
   "id": "4830cbf2-f83c-4c40-b780-a5301e027156",
   "metadata": {},
   "outputs": [
    {
     "data": {
      "text/plain": [
       "[{'id': 5,\n",
       "  'product_tmpl_id': [5, '[FURN_7777] Office Chair'],\n",
       "  'pricelist_id': [4, 'Orange (USD)']},\n",
       " {'id': 4,\n",
       "  'product_tmpl_id': [5, '[FURN_7777] Office Chair'],\n",
       "  'pricelist_id': [4, 'Orange (USD)']},\n",
       " {'id': 2,\n",
       "  'product_tmpl_id': [5, '[FURN_7777] Office Chair'],\n",
       "  'pricelist_id': [1, 'Öntanımlı (USD)']},\n",
       " {'id': 1,\n",
       "  'product_tmpl_id': [25, '[FURN_8220] Four Person Desk'],\n",
       "  'pricelist_id': [4, 'Orange (USD)']}]"
      ]
     },
     "execution_count": 10,
     "metadata": {},
     "output_type": "execute_result"
    }
   ],
   "source": [
    "# Kayıt arama\n",
    "domain=[['display_applied_on', '=', '1_product']]\n",
    "fields=['id', 'product_tmpl_id', \"pricelist_id\"]#name\n",
    "\n",
    "products = product_model.search(domain, fields)\n",
    "products"
   ]
  },
  {
   "cell_type": "code",
   "execution_count": null,
   "id": "f977d2dd-5063-4a88-9fa5-a09a43df1f10",
   "metadata": {},
   "outputs": [],
   "source": []
  }
 ],
 "metadata": {
  "kernelspec": {
   "display_name": "Python 3 (ipykernel)",
   "language": "python",
   "name": "python3"
  },
  "language_info": {
   "codemirror_mode": {
    "name": "ipython",
    "version": 3
   },
   "file_extension": ".py",
   "mimetype": "text/x-python",
   "name": "python",
   "nbconvert_exporter": "python",
   "pygments_lexer": "ipython3",
   "version": "3.12.7"
  }
 },
 "nbformat": 4,
 "nbformat_minor": 5
}
